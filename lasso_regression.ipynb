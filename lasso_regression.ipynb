{
  "nbformat": 4,
  "nbformat_minor": 0,
  "metadata": {
    "colab": {
      "provenance": []
    },
    "kernelspec": {
      "name": "python3",
      "display_name": "Python 3"
    },
    "language_info": {
      "name": "python"
    }
  },
  "cells": [
    {
      "cell_type": "code",
      "execution_count": null,
      "metadata": {
        "id": "ak_YVtMPKKd3"
      },
      "outputs": [],
      "source": [
        "import numpy as np"
      ]
    },
    {
      "cell_type": "code",
      "source": [
        "class lasso_regression():\n",
        "\n",
        "  # initiating the parameters\n",
        "  # lambda_parameter is the penalty term\n",
        "  def __init__(self,learning_rate,no_of_iterations,lambda_parameter):\n",
        "    self.learning_rate=learning_rate\n",
        "    self.no_of_iterations=no_of_iterations\n",
        "    self.lambda_parameter=lambda_parameter\n",
        "\n",
        "  # fitting the dataset to model\n",
        "  def fit(self,x,y):\n",
        "    m,n=x.shape\n",
        "    self.m=m # total no of data points or no of rows\n",
        "    self.n=n # total no of features or no of columns\n",
        "\n",
        "    self.w=np.zeros(self.n)\n",
        "    self.b=0\n",
        "\n",
        "    self.x=x\n",
        "    self.y=y\n",
        "\n",
        "    # implementing gradient descent algorithm for optimizations\n",
        "\n",
        "    for i in range(self.no_of_iterations):\n",
        "      self.update_weights()\n",
        "\n",
        "\n",
        "\n",
        "  # function to update weight and bias value\n",
        "  def update_weights(self):\n",
        "    y_pred = self.predict(self.x)\n",
        "\n",
        "    # initiating for weights\n",
        "    dw =np.zeros(self.n)\n",
        "\n",
        "    # gradients (dw,db)\n",
        "    for i in range(self.n):\n",
        "      if self.w[i]>0:\n",
        "        dw[i]=(-(2*(self.x[:,i]).dot(self.y - y_pred))+self.lambda_parameter)/self.m\n",
        "      else:\n",
        "        dw[i]=(-(2*(self.x[:,i]).dot(self.y-y_pred)) - self.lambda_parametr) /self.m\n",
        "\n",
        "    # bias\n",
        "    db= -2 * np.sum(self.y - y_pred) / self.m\n",
        "\n",
        "    # updating the weights and bias\n",
        "    self.w = self.w - self.learning_rate * dw\n",
        "    self.b = self.b - self.learning_rate * db\n",
        "  # predict the answer\n",
        "  def predict(self,x):\n",
        "    return x.dot(self.w)+ self.b\n"
      ],
      "metadata": {
        "id": "AqBk-1u6LF1Z"
      },
      "execution_count": null,
      "outputs": []
    }
  ]
}